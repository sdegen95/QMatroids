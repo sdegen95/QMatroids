{
 "cells": [
  {
   "cell_type": "code",
   "execution_count": 278,
   "metadata": {},
   "outputs": [
    {
     "data": {
      "text/plain": [
       "char_polyn_q_matroid (generic function with 2 methods)"
      ]
     },
     "metadata": {},
     "output_type": "display_data"
    }
   ],
   "source": [
    "using Oscar\n",
    "import Oscar: ideal\n",
    "using Combinatorics\n",
    "using Graphs\n",
    "using Graphs.Experimental \n",
    "using GraphPlot\n",
    "using Compose\n",
    "using BSON\n",
    "using Random\n",
    "using InvertedIndices\n",
    "using DataStructures\n",
    "include(\"./helper_functions.jl\")\n",
    "include(\"./q_properties.jl\")\n",
    "include(\"./q_matroids.jl\")\n",
    "include(\"/home/sebdeg95/Julia_Projects/QMatroids.jl\")"
   ]
  },
  {
   "cell_type": "markdown",
   "metadata": {},
   "source": [
    "# Constructing Q-Matroid from the struct\n",
    "***\n",
    "***"
   ]
  },
  {
   "cell_type": "code",
   "execution_count": 192,
   "metadata": {},
   "outputs": [
    {
     "data": {
      "text/plain": [
       "Vector{fpMatrix}\u001b[90m (alias for \u001b[39m\u001b[90mArray{fpMatrix, 1}\u001b[39m\u001b[90m)\u001b[39m"
      ]
     },
     "metadata": {},
     "output_type": "display_data"
    }
   ],
   "source": [
    "bases = [[1 0 0; 0 1 0], [1 0 0; 0 1 1], [1 0 1; 0 1 0], [1 0 1; 0 1 1]]\n",
    "bases2 = AbstractVector{fpMatrix}([matrix(GF(2),[0 0 0])])\n",
    "trans_bases = AbstractVector{fpMatrix}([])\n",
    "for elm in bases\n",
    "    new_elm = matrix(GF(2),elm)\n",
    "    push!(trans_bases,new_elm)\n",
    "end\n",
    "typeof(trans_bases)"
   ]
  },
  {
   "cell_type": "code",
   "execution_count": 193,
   "metadata": {},
   "outputs": [
    {
     "data": {
      "text/plain": [
       "Q-Matroid of rank 0 in 3-dim. vector-space over the Finite field of characteristic 2"
      ]
     },
     "metadata": {},
     "output_type": "display_data"
    }
   ],
   "source": [
    "QM = Q_Matroid(GF(2),bases2)"
   ]
  },
  {
   "cell_type": "code",
   "execution_count": 4,
   "metadata": {},
   "outputs": [
    {
     "data": {
      "text/plain": [
       "Vector{fpMatrix}\u001b[90m (alias for \u001b[39m\u001b[90mArray{fpMatrix, 1}\u001b[39m\u001b[90m)\u001b[39m"
      ]
     },
     "metadata": {},
     "output_type": "display_data"
    }
   ],
   "source": [
    "typeof(QM.bases)"
   ]
  },
  {
   "cell_type": "markdown",
   "metadata": {},
   "source": [
    "# Constructing Q-Matroid from the Independentspaces\n",
    "***\n",
    "***"
   ]
  },
  {
   "cell_type": "code",
   "execution_count": 6,
   "metadata": {},
   "outputs": [
    {
     "data": {
      "text/plain": [
       "8-element Vector{Any}:\n",
       " [0   0   0]\n",
       " [1   0   0]\n",
       " [0   1   0]\n",
       " [1   1   0]\n",
       " [0   0   1]\n",
       " [1   0   1]\n",
       " [0   1   1]\n",
       " [1   1   1]"
      ]
     },
     "metadata": {},
     "output_type": "display_data"
    }
   ],
   "source": [
    "Ext_F,x = FiniteField(2,3,\"x\")\n",
    "Mat = matrix(Ext_F,[1 x x^2])\n",
    "bases = Bases_repable_q_matroid(Mat)\n",
    "indeps = Independentspaces_q_matroid(bases)"
   ]
  },
  {
   "cell_type": "code",
   "execution_count": 8,
   "metadata": {},
   "outputs": [
    {
     "data": {
      "text/plain": [
       "Vector{fpMatrix}\u001b[90m (alias for \u001b[39m\u001b[90mArray{fpMatrix, 1}\u001b[39m\u001b[90m)\u001b[39m"
      ]
     },
     "metadata": {},
     "output_type": "display_data"
    }
   ],
   "source": [
    "trans_indeps = AbstractVector{fpMatrix}([])\n",
    "for elm in indeps\n",
    "    new_elm = matrix(GF(2),Array(elm))\n",
    "    push!(trans_indeps,new_elm)\n",
    "end\n",
    "typeof(trans_indeps)"
   ]
  },
  {
   "cell_type": "code",
   "execution_count": 9,
   "metadata": {},
   "outputs": [
    {
     "data": {
      "text/plain": [
       "Q-Matroid of rank 1 in 3-dim. vector-space over the Finite field of characteristic 2"
      ]
     },
     "metadata": {},
     "output_type": "display_data"
    }
   ],
   "source": [
    "QM = q_matroid_from_independentspaces(GF(2),trans_indeps)"
   ]
  },
  {
   "cell_type": "code",
   "execution_count": 10,
   "metadata": {},
   "outputs": [
    {
     "data": {
      "text/plain": [
       "7-element Vector{fpMatrix}:\n",
       " [1   0   0]\n",
       " [0   1   0]\n",
       " [1   1   0]\n",
       " [0   0   1]\n",
       " [1   0   1]\n",
       " [0   1   1]\n",
       " [1   1   1]"
      ]
     },
     "metadata": {},
     "output_type": "display_data"
    }
   ],
   "source": [
    "QM.bases"
   ]
  },
  {
   "cell_type": "markdown",
   "metadata": {},
   "source": [
    "# Helper_function concerning subspaces"
   ]
  },
  {
   "cell_type": "markdown",
   "metadata": {},
   "source": [
    "## All subs of fixed dim"
   ]
  },
  {
   "cell_type": "code",
   "execution_count": 67,
   "metadata": {},
   "outputs": [
    {
     "data": {
      "text/plain": [
       "31-element Vector{fpMatrix}:\n",
       " [1   0   0   0   0]\n",
       " [0   1   0   0   0]\n",
       " [1   1   0   0   0]\n",
       " [0   0   1   0   0]\n",
       " [1   0   1   0   0]\n",
       " [0   1   1   0   0]\n",
       " [1   1   1   0   0]\n",
       " [0   0   0   1   0]\n",
       " [1   0   0   1   0]\n",
       " [0   1   0   1   0]\n",
       " ⋮\n",
       " [1   1   1   0   1]\n",
       " [0   0   0   1   1]\n",
       " [1   0   0   1   1]\n",
       " [0   1   0   1   1]\n",
       " [1   1   0   1   1]\n",
       " [0   0   1   1   1]\n",
       " [1   0   1   1   1]\n",
       " [0   1   1   1   1]\n",
       " [1   1   1   1   1]"
      ]
     },
     "metadata": {},
     "output_type": "display_data"
    }
   ],
   "source": [
    "subspaces_fix_dim(GF(2),1,5)"
   ]
  },
  {
   "cell_type": "markdown",
   "metadata": {},
   "source": [
    "## All subspaces"
   ]
  },
  {
   "cell_type": "code",
   "execution_count": 15,
   "metadata": {},
   "outputs": [
    {
     "data": {
      "text/plain": [
       "16-element Vector{fpMatrix}:\n",
       " [0   0   0]\n",
       " [1   0   0]\n",
       " [0   1   0]\n",
       " [1   1   0]\n",
       " [0   0   1]\n",
       " [1   0   1]\n",
       " [0   1   1]\n",
       " [1   1   1]\n",
       " [1 0 0; 0 1 0]\n",
       " [1 0 0; 0 0 1]\n",
       " [1 0 0; 0 1 1]\n",
       " [0 1 0; 0 0 1]\n",
       " [1 0 1; 0 1 0]\n",
       " [1 1 0; 0 0 1]\n",
       " [1 0 1; 0 1 1]\n",
       " [1 0 0; 0 1 0; 0 0 1]"
      ]
     },
     "metadata": {},
     "output_type": "display_data"
    }
   ],
   "source": [
    "test = all_subspaces(GF(2),3)"
   ]
  },
  {
   "cell_type": "markdown",
   "metadata": {},
   "source": [
    "## Dimension of a fixed spaces"
   ]
  },
  {
   "cell_type": "code",
   "execution_count": 16,
   "metadata": {},
   "outputs": [
    {
     "data": {
      "text/plain": [
       "3"
      ]
     },
     "metadata": {},
     "output_type": "display_data"
    }
   ],
   "source": [
    "subspace_dim(GF(2),test[length(test)])"
   ]
  },
  {
   "cell_type": "markdown",
   "metadata": {},
   "source": [
    "## Set of elements of a fixed space"
   ]
  },
  {
   "cell_type": "code",
   "execution_count": 109,
   "metadata": {},
   "outputs": [
    {
     "data": {
      "text/html": [
       "[0 0 0]"
      ],
      "text/latex": [
       "\\begin{array}{ccc}\n",
       "0 & 0 & 0\n",
       "\\end{array}"
      ],
      "text/plain": [
       "[0   0   0]"
      ]
     },
     "metadata": {},
     "output_type": "display_data"
    }
   ],
   "source": [
    "A = matrix(GF(2),[1 0 0 0 0;0 1 0 0 0;0 0 1 0 0;0 0 0 1 0;0 0 0 0 1])\n",
    "B = matrix(GF(2),[1 0 0 0;0 1 0 0;0 0 1 0]);\n",
    "C = matrix(GF(2),[0 0 0])\n",
    "# typeof(sum_vs(GF(2),A,B));"
   ]
  },
  {
   "cell_type": "code",
   "execution_count": 69,
   "metadata": {},
   "outputs": [],
   "source": [
    "subspace_set(GF(2),A);"
   ]
  },
  {
   "cell_type": "markdown",
   "metadata": {},
   "source": [
    "## Subspaces of a fixed space "
   ]
  },
  {
   "cell_type": "code",
   "execution_count": 117,
   "metadata": {},
   "outputs": [
    {
     "data": {
      "text/html": [
       "[0 0 0]"
      ],
      "text/latex": [
       "\\begin{array}{ccc}\n",
       "0 & 0 & 0\n",
       "\\end{array}"
      ],
      "text/plain": [
       "[0   0   0]"
      ]
     },
     "metadata": {},
     "output_type": "display_data"
    }
   ],
   "source": [
    "A = matrix(GF(2),[1 0 0 0 0;0 1 0 0 0;0 0 1 0 0;0 0 0 1 0;0 0 0 0 1])\n",
    "B = matrix(GF(2),[1 0 0;0 1 0;0 0 1]);\n",
    "C = matrix(GF(2),[0 0 0])\n",
    "# typeof(sum_vs(GF(2),A,B));"
   ]
  },
  {
   "cell_type": "code",
   "execution_count": 118,
   "metadata": {},
   "outputs": [
    {
     "data": {
      "text/plain": [
       "4-element Vector{AbstractVector{fpMatrix}}:\n",
       " [[0 0 0]]\n",
       " [[1 1 0], [0 1 0], [1 0 1], [0 0 1], [1 0 0], [1 1 1], [0 1 1]]\n",
       " [[1 0 0; 0 1 0], [1 0 1; 0 1 1], [1 1 0; 0 0 1], [1 0 1; 0 1 0], [0 1 0; 0 0 1], [1 0 0; 0 0 1], [1 0 0; 0 1 1]]\n",
       " [[1 0 0; 0 1 0; 0 0 1]]"
      ]
     },
     "metadata": {},
     "output_type": "display_data"
    }
   ],
   "source": [
    "spaces = subspaces_fix_space(GF(2),B)"
   ]
  },
  {
   "cell_type": "code",
   "execution_count": 119,
   "metadata": {},
   "outputs": [
    {
     "data": {
      "text/plain": [
       "16"
      ]
     },
     "metadata": {},
     "output_type": "display_data"
    }
   ],
   "source": [
    "x = 0\n",
    "for list in spaces\n",
    "    x += length(list)\n",
    "end\n",
    "x"
   ]
  },
  {
   "cell_type": "markdown",
   "metadata": {},
   "source": [
    "## All spaces that contain a fixed space"
   ]
  },
  {
   "cell_type": "code",
   "execution_count": 137,
   "metadata": {},
   "outputs": [
    {
     "data": {
      "text/html": [
       "[1 0 0; 0 1 0; 0 0 1]"
      ],
      "text/latex": [
       "\\begin{array}{ccc}\n",
       "1 & 0 & 0 \\\\\n",
       "0 & 1 & 0 \\\\\n",
       "0 & 0 & 1\n",
       "\\end{array}"
      ],
      "text/plain": [
       "[1   0   0]\n",
       "[0   1   0]\n",
       "[0   0   1]"
      ]
     },
     "metadata": {},
     "output_type": "display_data"
    }
   ],
   "source": [
    "A = matrix(GF(2),[1 0 0 0 0;0 1 0 0 0;0 0 1 0 0;0 0 0 1 0;0 0 0 0 1])\n",
    "B = matrix(GF(2),[1 0 0 0]);\n",
    "C = matrix(GF(2),[1 0 0; 0 1 0; 0 0 1])\n",
    "# typeof(sum_vs(GF(2),A,B));"
   ]
  },
  {
   "cell_type": "code",
   "execution_count": 138,
   "metadata": {},
   "outputs": [
    {
     "data": {
      "text/plain": [
       "16-element Vector{fpMatrix}:\n",
       " [1   0   0   0]\n",
       " [1 0 0 0; 0 1 0 0]\n",
       " [1 0 0 0; 0 0 1 0]\n",
       " [1 0 0 0; 0 1 1 0]\n",
       " [1 0 0 0; 0 0 0 1]\n",
       " [1 0 0 0; 0 1 0 1]\n",
       " [1 0 0 0; 0 0 1 1]\n",
       " [1 0 0 0; 0 1 1 1]\n",
       " [1 0 0 0; 0 1 0 0; 0 0 1 0]\n",
       " [1 0 0 0; 0 1 0 0; 0 0 0 1]\n",
       " [1 0 0 0; 0 1 0 0; 0 0 1 1]\n",
       " [1 0 0 0; 0 0 1 0; 0 0 0 1]\n",
       " [1 0 0 0; 0 1 0 1; 0 0 1 0]\n",
       " [1 0 0 0; 0 1 1 0; 0 0 0 1]\n",
       " [1 0 0 0; 0 1 0 1; 0 0 1 1]\n",
       " [1 0 0 0; 0 1 0 0; 0 0 1 0; 0 0 0 1]"
      ]
     },
     "metadata": {},
     "output_type": "display_data"
    }
   ],
   "source": [
    "containments = containments_fix_space(GF(2),B)"
   ]
  },
  {
   "cell_type": "markdown",
   "metadata": {},
   "source": [
    "# Computing Independent/Dependent spaces"
   ]
  },
  {
   "cell_type": "code",
   "execution_count": 255,
   "metadata": {},
   "outputs": [
    {
     "data": {
      "text/plain": [
       "1-element Vector{Any}:\n",
       " [0   0   0]"
      ]
     },
     "metadata": {},
     "output_type": "display_data"
    }
   ],
   "source": [
    "Ext_F,x = FiniteField(2,3,\"x\")\n",
    "Mat = matrix(Ext_F,[0 0 0])\n",
    "bases = Bases_repable_q_matroid(Mat)\n",
    "indeps = Independentspaces_q_matroid(bases)"
   ]
  },
  {
   "cell_type": "code",
   "execution_count": 256,
   "metadata": {},
   "outputs": [
    {
     "data": {
      "text/plain": [
       "Q-Matroid of rank 0 in 3-dim. vector-space over the Finite field of characteristic 2"
      ]
     },
     "metadata": {},
     "output_type": "display_data"
    }
   ],
   "source": [
    "QM = Q_Matroid(GF(2),bases)"
   ]
  },
  {
   "cell_type": "code",
   "execution_count": 257,
   "metadata": {},
   "outputs": [
    {
     "data": {
      "text/plain": [
       "1-element Vector{fpMatrix}:\n",
       " [0   0   0]"
      ]
     },
     "metadata": {},
     "output_type": "display_data"
    }
   ],
   "source": [
    "Q_Matroid_Indepentspaces(QM)"
   ]
  },
  {
   "cell_type": "code",
   "execution_count": 258,
   "metadata": {},
   "outputs": [
    {
     "data": {
      "text/plain": [
       "15-element Vector{fpMatrix}:\n",
       " [1   0   0]\n",
       " [0   1   0]\n",
       " [1   1   0]\n",
       " [0   0   1]\n",
       " [1   0   1]\n",
       " [0   1   1]\n",
       " [1   1   1]\n",
       " [1 0 0; 0 1 0]\n",
       " [1 0 0; 0 0 1]\n",
       " [1 0 0; 0 1 1]\n",
       " [0 1 0; 0 0 1]\n",
       " [1 0 1; 0 1 0]\n",
       " [1 1 0; 0 0 1]\n",
       " [1 0 1; 0 1 1]\n",
       " [1 0 0; 0 1 0; 0 0 1]"
      ]
     },
     "metadata": {},
     "output_type": "display_data"
    }
   ],
   "source": [
    "Q_Matroid_Depentspaces(QM)"
   ]
  },
  {
   "cell_type": "code",
   "execution_count": 259,
   "metadata": {},
   "outputs": [
    {
     "data": {
      "text/plain": [
       "7-element Vector{fpMatrix}:\n",
       " [1   0   0]\n",
       " [0   1   0]\n",
       " [1   1   0]\n",
       " [0   0   1]\n",
       " [1   0   1]\n",
       " [0   1   1]\n",
       " [1   1   1]"
      ]
     },
     "metadata": {},
     "output_type": "display_data"
    }
   ],
   "source": [
    "Q_Matroid_Loopspace(QM)"
   ]
  },
  {
   "cell_type": "markdown",
   "metadata": {},
   "source": [
    "# Creating Q-Matroid from Matrix()"
   ]
  },
  {
   "cell_type": "code",
   "execution_count": 300,
   "metadata": {},
   "outputs": [
    {
     "data": {
      "text/plain": [
       "Q-Matroid of rank 1 in 4-dim. vector-space over the Finite field of characteristic 2"
      ]
     },
     "metadata": {},
     "output_type": "display_data"
    }
   ],
   "source": [
    "Ext_F,x = FiniteField(2,3,\"x\")\n",
    "Mat = matrix(Ext_F,[1 x x^2 0])\n",
    "QM = q_matroid_from_matrix(Ext_F,Mat)"
   ]
  },
  {
   "cell_type": "code",
   "execution_count": 301,
   "metadata": {},
   "outputs": [
    {
     "data": {
      "text/plain": [
       "14-element Vector{fpMatrix}:\n",
       " [1   0   0   0]\n",
       " [0   1   0   0]\n",
       " [1   1   0   0]\n",
       " [0   0   1   0]\n",
       " [1   0   1   0]\n",
       " [0   1   1   0]\n",
       " [1   1   1   0]\n",
       " [1   0   0   1]\n",
       " [0   1   0   1]\n",
       " [1   1   0   1]\n",
       " [0   0   1   1]\n",
       " [1   0   1   1]\n",
       " [0   1   1   1]\n",
       " [1   1   1   1]"
      ]
     },
     "metadata": {},
     "output_type": "display_data"
    }
   ],
   "source": [
    "QM.bases"
   ]
  },
  {
   "cell_type": "code",
   "execution_count": 302,
   "metadata": {},
   "outputs": [
    {
     "data": {
      "text/plain": [
       "1-element Vector{fpMatrix}:\n",
       " [0   0   0   1]"
      ]
     },
     "metadata": {},
     "output_type": "display_data"
    }
   ],
   "source": [
    "Q_Matroid_Loopspace(QM)"
   ]
  }
 ],
 "metadata": {
  "kernelspec": {
   "display_name": "Julia 1.9.2",
   "language": "julia",
   "name": "julia-1.9"
  },
  "language_info": {
   "file_extension": ".jl",
   "mimetype": "application/julia",
   "name": "julia",
   "version": "1.9.2"
  },
  "orig_nbformat": 4
 },
 "nbformat": 4,
 "nbformat_minor": 2
}
