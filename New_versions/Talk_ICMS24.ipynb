{
 "cells": [
  {
   "cell_type": "code",
   "execution_count": 1,
   "metadata": {},
   "outputs": [],
   "source": [
    "include(\"./helper_functions.jl\")\n",
    "include(\"./q_properties.jl\")\n",
    "include(\"./q_matroids.jl\")\n",
    "include(\"./enumeration.jl\")\n",
    "include(\"./optimizied_enumeration.jl\")\n",
    "include(\"./database.jl\")\n",
    "using DataFrames\n",
    "using SQLite"
   ]
  },
  {
   "cell_type": "markdown",
   "metadata": {},
   "source": [
    "# **$q$-Matroids in Julia/Oscar**\n",
    "***\n",
    "***"
   ]
  },
  {
   "cell_type": "markdown",
   "metadata": {},
   "source": [
    "<h4>\n",
    "\n",
    "**Outline:**\n",
    "\n",
    "\n",
    "1. Basics about $q$-matroids\n",
    "2. Reprensentable $q$-matroids\n",
    "3. Counting $q$-matroids\n",
    "\n",
    "</h4>"
   ]
  },
  {
   "cell_type": "markdown",
   "metadata": {},
   "source": [
    "## **1. Basics about $q$-matroids**"
   ]
  },
  {
   "cell_type": "markdown",
   "metadata": {},
   "source": [
    "<h4>\n",
    "\n",
    "The Theory of $q$-matroids was first introduced by Jurrius and Pellikaan in 2018.\n",
    "\n",
    "</h4>"
   ]
  },
  {
   "cell_type": "markdown",
   "metadata": {},
   "source": [
    "### **Motivation**"
   ]
  },
  {
   "cell_type": "markdown",
   "metadata": {},
   "source": [
    "\n",
    "<h4>\n",
    "<center>\n",
    "\n",
    "<u>**Slogan:**</u> ***$\\quad q$-matroids are the $q$-analogues of matroids.***\n",
    "\n",
    "</center>\n",
    "\n",
    "<h4>"
   ]
  },
  {
   "cell_type": "markdown",
   "metadata": {},
   "source": [
    "### **$q$-Analogue**"
   ]
  },
  {
   "cell_type": "markdown",
   "metadata": {},
   "source": [
    "\n",
    "<h4>\n",
    "\n",
    "Theory of generalizing finite set related to concepts to concepts related to $\\mathbb{F}_q^n$.\n",
    "\n",
    "<center>\n",
    "\n",
    "***Finite sets $[n]$ ------> Finite dim. vector spaces over $\\mathbb{F}_q$.***\n",
    "\n",
    "</center>\n",
    "\n",
    "<u> **Motivating Example:** </u>\n",
    "\n",
    "$$\n",
    "\n",
    "\\text{Num. of } k\\text{-subsets of } [n] = {n\\choose k}\\quad ------>\\quad {n\\choose k}_q = \\text{Num. of } k\\text{-spaces of } \\mathbb{F}_q^n. \n",
    "\n",
    "$$\n",
    "\n",
    "<u> **Notation:** </u>\n",
    "\n",
    "* $V\\leq W=$ the subspace $V$ is contained in the subspace $W$.\n",
    "* $\\mathcal{L}(\\mathbb{F}_q^n)=$ subspace lattice, i.e., set of all subspaces of $\\mathbb{F}_q^n$ ordered by $\\leq$.\n",
    "\n",
    "</h4>"
   ]
  },
  {
   "cell_type": "code",
   "execution_count": 3,
   "metadata": {},
   "outputs": [
    {
     "data": {
      "text/plain": [
       "7"
      ]
     },
     "metadata": {},
     "output_type": "display_data"
    }
   ],
   "source": [
    "# q=2,n=3,k=2\n",
    "\n",
    "q_binomcoeff(2,3,2)"
   ]
  },
  {
   "cell_type": "markdown",
   "metadata": {},
   "source": [
    "### **$q$-Matroids**"
   ]
  },
  {
   "cell_type": "markdown",
   "metadata": {},
   "source": [
    "<h4>\n",
    "<center>\n",
    "\n",
    "| Rank-function | Bases |\n",
    "|:-|:-|\n",
    "| $\\mathcal{M}=(E,\\rho)$, where <ul><li> $E=\\mathbb{F}_q^n$ </li><li> $\\rho:\\mathcal{L}(E)\\rightarrow \\Z_{\\geq 0}$ satisfying: $\\;\\forall V,W\\in\\mathcal{L}(E)$ </li></ul>| $\\mathcal{M}=(E,\\mathcal{B})$, where <ul> <li> $E=\\mathbb{F}_q^n$ </li><li> $\\mathcal{B}\\subseteq\\mathcal{L}(E)$ satisfying: $\\;\\forall B_1,B_2\\in\\mathcal{B}$</li></ul>\n",
    "|<ul><li>**(R1)**$\\quad 0\\leq\\rho(V)\\leq\\dim(V)$.</li><br><li>**(R2)**$\\quad\\text{If }V\\leq W$ $\\Rightarrow$ $\\rho(V)\\leq\\rho(W)$.</li><br><li>**(R3)**$\\quad\\rho(V+W)+\\rho(V\\cap W)\\leq\\rho(V)+\\rho(W)$.<br><br><br></li></ol>|<ul><li>**(B1)**$\\quad\\mathcal{B}\\not=\\emptyset$.</li><br><li>**(B2)**$\\quad\\text{If }B_1\\leq B_2$ $\\Rightarrow$ $B_1=B_2$.</li><br><li>**(B3)**$\\quad\\text{For all }B_1,B_2\\in\\mathcal{B}$ $\\text{and for all codim. one } A\\leq B_1$<br>$\\quad\\text{ there ex. a codim. one } X\\leq E \\text{ s.t. } A\\leq X,B_2\\not\\leq X$ <br> $\\quad\\;\\text{and } A+x\\in\\mathcal{B}\\text{ for all one-spaces } x\\leq E, x\\not\\leq X$.</li></ol>|\n",
    "|**Exp:**$\\quad\\rho(V)=\\dim(V)$ for all $V\\in\\mathcal{L}(E)$.|**Exp:**$\\quad\\mathcal{B}=\\{E\\}$.|\n",
    "\n",
    "</center>\n",
    "<br>\n",
    "\n",
    "<u>**Remark:**</u>\n",
    "1. The above descriptions of $\\mathcal{M}$ are $q$-cryptomorphisms, i.e., equivalent axiomatic definitions of the same $q$-matroid.\n",
    "    * Rank-function Def. ------> Bases Def.: $$\\mathcal{B}_\\rho:=\\{X\\in\\mathcal{L}(E)\\;|\\;\\rho(X)=\\dim(X),\\rho(X)=\\rho(E)\\}.$$\n",
    "    * Bases Def. ------> Rank-function Def.: $$\\rho_\\mathcal{B}(X)=\\max\\{\\dim(X\\cap B)\\;|\\;B\\in\\mathcal{B}\\}.$$\n",
    "2. Every space in $\\mathcal{B}$ has the same dimension.\n",
    "3. The *rank of $\\mathcal{M}$* is the value: $$\\text{rank}(\\mathcal{M})=\\rho(E) \\Longleftrightarrow \\text{rank}(\\mathcal{M})=\\dim(B)\\text{ for any }B\\in\\mathcal{B}.$$\n",
    "<h4>"
   ]
  },
  {
   "cell_type": "markdown",
   "metadata": {},
   "source": [
    "#### **$q$-Matroids: Julia/Oscar**"
   ]
  },
  {
   "cell_type": "markdown",
   "metadata": {},
   "source": [
    "<h4>\n",
    "\n",
    "```\n",
    "struct Q_Matroid\n",
    "    groundspace::fpMatrix           # groudspace as id-matrix over the corresponding field.\n",
    "    bases::AbstractVector{fpMatrix} # bases of the q-matroid.\n",
    "end\n",
    "\n",
    "```\n",
    "<u>**Note:**</u><br>\n",
    "For every dimension $0\\leq k\\leq n$, we always represent a $k$-space $V\\in\\mathcal{L}(\\mathbb{F}_q^n)$ by a generator matrix $G\\in\\mathbb{F}_q^{k\\times n}$, i.e., $V=\\text{rowspace}_{\\mathbb{F}_q}(G)$. \n",
    "\n",
    "</h4>"
   ]
  },
  {
   "cell_type": "code",
   "execution_count": 26,
   "metadata": {},
   "outputs": [
    {
     "data": {
      "text/plain": [
       "(true, false)"
      ]
     },
     "metadata": {},
     "output_type": "display_data"
    }
   ],
   "source": [
    "# Check if the given collection is a bases collection\n",
    "dim = 3\n",
    "field = GF(2)\n",
    "A = [matrix(field,[1 0 0;0 1 0]), matrix(field,[1 0 1;0 1 1]), matrix(field,[1 0 1;0 1 0]), matrix(field,[1 0 0;0 1 1])]\n",
    "B = [matrix(field,[1 0 0]), matrix(field,[0 1 0])]\n",
    "Are_q_matroid_bases(A),Are_q_matroid_bases(B)"
   ]
  },
  {
   "cell_type": "code",
   "execution_count": 27,
   "metadata": {},
   "outputs": [
    {
     "data": {
      "text/plain": [
       "Q-Matroid of rank 2 in 3-dim. vector-space over the Finite field of characteristic 2"
      ]
     },
     "metadata": {},
     "output_type": "display_data"
    }
   ],
   "source": [
    "# Construct the q-matroid\n",
    "groundspace = matrix_space(field,dim,dim)(1)\n",
    "M = Q_Matroid(groundspace,A)"
   ]
  },
  {
   "cell_type": "code",
   "execution_count": 28,
   "metadata": {},
   "outputs": [
    {
     "data": {
      "text/plain": [
       "(0, 1, 2)"
      ]
     },
     "metadata": {},
     "output_type": "display_data"
    }
   ],
   "source": [
    "# Check the ranks of a few subspaces\n",
    "V_1 = matrix(field,[0 0 1])\n",
    "V_2 = matrix(field,[0 1 0;0 0 1])\n",
    "V_3 = matrix(field,[1 0 1;0 1 0])\n",
    "Q_Matroid_Ranks(M,V_1),Q_Matroid_Ranks(M,V_2),Q_Matroid_Ranks(M,V_3)"
   ]
  },
  {
   "cell_type": "markdown",
   "metadata": {},
   "source": [
    "### **Associated notions**"
   ]
  },
  {
   "cell_type": "markdown",
   "metadata": {},
   "source": [
    "<h4>\n",
    "\n",
    "Let $\\mathcal{M}=(E,\\rho)$ a $q$-matroid and $\\mathcal{B}$ its bases collection.\n",
    "\n",
    "<center>\n",
    "\n",
    "|Notion|In terms of *rank* $\\rho$|In terms of *bases* $\\mathcal{B}$|\n",
    "|:-:|:-|:-|\n",
    "|**Independent space**|$V\\in\\mathcal{L}(E)$ s.t. $\\rho(V)=\\dim(V).$|Space contained in some bases.|\n",
    "|**Dependent space**|$V\\in\\mathcal{L}(E)$ s.t. $\\rho(V)<\\dim(V).$|Space contained in no bases.|\n",
    "|**Loop**|$x\\in\\mathcal{L}(E)$ s.t. $\\dim(x)=1$ and $x$ dep.|One-space contained in no bases.|\n",
    "|**Circuit**|$C\\in\\mathcal{L}(E)$ s.t. every subspace is indep.|Minimal dep. space w.r.t. $\\leq$|\n",
    "|**Flat**|$F\\in\\mathcal{L}(E)$ s.t. $\\rho(F+x)>\\rho(F)$, for all one-spaces $x\\not\\leq F$.|\"No nice description\"|\n",
    "\n",
    "</center>\n",
    "<br>\n",
    "\n",
    "<u>**Remark:**</u>\n",
    "\n",
    "* All these notions provide $q$-cryptomorphisms of $\\mathcal{M}$.\n",
    "* *Loops come in subspace*, i.e., if $x,y$ are loops then $\\rho(x+y)=0$.\n",
    "\n",
    "</h4>"
   ]
  },
  {
   "cell_type": "markdown",
   "metadata": {},
   "source": [
    "#### **Associated notions: Julia/Oscar**"
   ]
  },
  {
   "cell_type": "code",
   "execution_count": 29,
   "metadata": {},
   "outputs": [
    {
     "data": {
      "text/plain": [
       "Q-Matroid of rank 2 in 3-dim. vector-space over the Finite field of characteristic 2"
      ]
     },
     "metadata": {},
     "output_type": "display_data"
    }
   ],
   "source": [
    "dim = 3\n",
    "field = GF(2)\n",
    "groundspace = matrix_space(field,dim,dim)(1)\n",
    "A = [matrix(field,[1 0 0;0 1 0]), matrix(field,[1 0 1;0 1 1]), matrix(field,[1 0 1;0 1 0]), matrix(field,[1 0 0;0 1 1])]\n",
    "QM1 = Q_Matroid(groundspace,A)"
   ]
  },
  {
   "cell_type": "code",
   "execution_count": 30,
   "metadata": {},
   "outputs": [
    {
     "data": {
      "text/plain": [
       "11-element Vector{fpMatrix}:\n",
       " [0   0   0]\n",
       " [1   1   0]\n",
       " [0   1   0]\n",
       " [1   0   0]\n",
       " [1   0   1]\n",
       " [0   1   1]\n",
       " [1   1   1]\n",
       " [1 0 0; 0 1 0]\n",
       " [1 0 1; 0 1 1]\n",
       " [1 0 1; 0 1 0]\n",
       " [1 0 0; 0 1 1]"
      ]
     },
     "metadata": {},
     "output_type": "display_data"
    }
   ],
   "source": [
    "# Indep. spaces\n",
    "Q_Matroid_Independentspaces(QM1)"
   ]
  },
  {
   "cell_type": "code",
   "execution_count": 31,
   "metadata": {},
   "outputs": [
    {
     "data": {
      "text/plain": [
       "5-element Vector{fpMatrix}:\n",
       " [0   0   1]\n",
       " [1 0 0; 0 0 1]\n",
       " [0 1 0; 0 0 1]\n",
       " [1 1 0; 0 0 1]\n",
       " [1 0 0; 0 1 0; 0 0 1]"
      ]
     },
     "metadata": {},
     "output_type": "display_data"
    }
   ],
   "source": [
    "# Dep. spaces\n",
    "Q_Matroid_Dependentspaces(QM1)"
   ]
  },
  {
   "cell_type": "code",
   "execution_count": 32,
   "metadata": {},
   "outputs": [
    {
     "data": {
      "text/plain": [
       "1-element Vector{fpMatrix}:\n",
       " [0   0   1]"
      ]
     },
     "metadata": {},
     "output_type": "display_data"
    }
   ],
   "source": [
    "# Loops\n",
    "Q_Matroid_Loopspace(QM1)"
   ]
  },
  {
   "cell_type": "code",
   "execution_count": 33,
   "metadata": {},
   "outputs": [
    {
     "data": {
      "text/plain": [
       "1-element Vector{fpMatrix}:\n",
       " [0   0   1]"
      ]
     },
     "metadata": {},
     "output_type": "display_data"
    }
   ],
   "source": [
    "# Circuits\n",
    "Q_Matroid_CircuitsV2(QM1)"
   ]
  },
  {
   "cell_type": "code",
   "execution_count": 34,
   "metadata": {},
   "outputs": [
    {
     "data": {
      "text/plain": [
       "5-element Vector{fpMatrix}:\n",
       " [0   0   1]\n",
       " [1 0 0; 0 0 1]\n",
       " [0 1 0; 0 0 1]\n",
       " [1 1 0; 0 0 1]\n",
       " [1 0 0; 0 1 0; 0 0 1]"
      ]
     },
     "metadata": {},
     "output_type": "display_data"
    }
   ],
   "source": [
    "# Flats\n",
    "Q_Matroid_Flats(QM1)"
   ]
  },
  {
   "cell_type": "markdown",
   "metadata": {},
   "source": [
    "## **2. Representable $q$-matroids**"
   ]
  },
  {
   "cell_type": "markdown",
   "metadata": {},
   "source": [
    "### **Motivation**"
   ]
  },
  {
   "cell_type": "markdown",
   "metadata": {},
   "source": [
    "<h4>\n",
    "\n",
    "<u> **Algebraic coding theory** </u>\n",
    "\n",
    "- Constructing Error-control codes for detecting and deleting errors occurring during data transmission.\n",
    "- Some can be modeled via $\\mathbb{F}_{q^m}$-linear subspaces of $\\mathbb{F}_{q^m}^n$ (called *rank-metric codes*).\n",
    "- These define representable $q$-matroids.\n",
    "- Properties of these $q$-matroid helps to understand the associated codes.\n",
    "\n",
    "</h4>"
   ]
  },
  {
   "cell_type": "markdown",
   "metadata": {},
   "source": [
    "### **Representable $q$-matroids**"
   ]
  },
  {
   "cell_type": "markdown",
   "metadata": {},
   "source": [
    "<h4>\n",
    "\n",
    "<u> **Proposition:**</u> (Lueressen, Jany 2022)<br>\n",
    "Let $\\mathcal{C}\\leq\\mathbb{F}_{q^m}^n$ be a $k$-dim. rank-metric code and $G\\in\\mathbb{F}_{q^m}^{k\\times n}$. Then the function $\\rho_G:\\mathcal{L}(\\mathbb{F}_q^n)\\rightarrow\\mathbb{Z}_{\\geq 0}$ given by $$\\rho_G(V)=\\text{rk}_{\\mathbb{F}_{q^m}}(GY^T),\\text{ where }V=\\text{rowspace}_{\\mathbb{F}_{q}}(Y)$$ is a $q$-rank function. We call $\\mathcal{M}_G=(\\mathbb{F}_q^n,\\rho_G)$ *$q$-matroid associated to $G$*.\n",
    "\n",
    "<br>\n",
    "\n",
    "<u> **Definition:**</u><br>\n",
    "A $q$-matroid $\\mathcal{M}=(\\mathbb{F}_q^n,\\rho)$ of rank $k$ is *$\\mathbb{F}_{q^m}$-representable* if there ex. $m\\geq 1$ and $\\mathcal{g}\\leq\\mathbb{F}_{q^m}^{k\\times n}$ s.t. $\\mathcal{M}_G=\\mathcal{M}.$\n",
    "\n",
    "</h4>"
   ]
  },
  {
   "cell_type": "markdown",
   "metadata": {},
   "source": [
    "#### **Representable $q$-matroids: Julia/Oscar**"
   ]
  },
  {
   "cell_type": "code",
   "execution_count": 35,
   "metadata": {},
   "outputs": [
    {
     "data": {
      "text/plain": [
       "Q-Matroid of rank 2 in 3-dim. vector-space over the Finite field of characteristic 2"
      ]
     },
     "metadata": {},
     "output_type": "display_data"
    }
   ],
   "source": [
    "# Define q-matroid from matrix\n",
    "Ext_F2,x = FiniteField(2,1,\"x\")\n",
    "Ext_F3,y = FiniteField(2,3,\"y\")\n",
    "Mat2 = matrix(Ext_F2,[1 0 0;0 1 0])\n",
    "Mat3 = matrix(Ext_F3,[1 0 y;0 1 y^2])\n",
    "QM2 = q_matroid_from_matrix(Mat2)\n",
    "QM3 = q_matroid_from_matrix(Mat3)"
   ]
  },
  {
   "cell_type": "code",
   "execution_count": 36,
   "metadata": {},
   "outputs": [
    {
     "data": {
      "text/plain": [
       "4-element Vector{fpMatrix}:\n",
       " [1 0 0; 0 1 0]\n",
       " [1 0 0; 0 1 1]\n",
       " [1 0 1; 0 1 0]\n",
       " [1 0 1; 0 1 1]"
      ]
     },
     "metadata": {},
     "output_type": "display_data"
    }
   ],
   "source": [
    "# Bases QM2\n",
    "QM2.bases"
   ]
  },
  {
   "cell_type": "code",
   "execution_count": 37,
   "metadata": {},
   "outputs": [
    {
     "data": {
      "text/plain": [
       "true"
      ]
     },
     "metadata": {},
     "output_type": "display_data"
    }
   ],
   "source": [
    "# Check if QM1==QM2\n",
    "Set(QM1.bases) == Set(QM2.bases)"
   ]
  },
  {
   "cell_type": "markdown",
   "metadata": {},
   "source": [
    "***"
   ]
  },
  {
   "cell_type": "code",
   "execution_count": 38,
   "metadata": {},
   "outputs": [
    {
     "data": {
      "text/plain": [
       "7-element Vector{fpMatrix}:\n",
       " [1 0 0; 0 1 0]\n",
       " [1 0 0; 0 0 1]\n",
       " [1 0 0; 0 1 1]\n",
       " [0 1 0; 0 0 1]\n",
       " [1 0 1; 0 1 0]\n",
       " [1 1 0; 0 0 1]\n",
       " [1 0 1; 0 1 1]"
      ]
     },
     "metadata": {},
     "output_type": "display_data"
    }
   ],
   "source": [
    "# Bases QM3\n",
    "QM3.bases"
   ]
  },
  {
   "cell_type": "markdown",
   "metadata": {},
   "source": [
    "<h4>\n",
    "\n",
    "The $q$-matroid `QM3` is called *uniform $q$-matroid of rank $2$ in dim. $3$*.\n",
    "\n",
    "</h4>"
   ]
  },
  {
   "cell_type": "markdown",
   "metadata": {},
   "source": [
    "<h4>\n",
    "\n",
    "<u> **Definition:**</u><br>\n",
    "For $0\\leq k\\leq n$ the $q$-matroid $\\mathcal{U}_{k,n}(\\mathbb{F}_q)=(\\mathbb{F}_q^n,\\{\\text{all }k\\text{-spaces}\\})$ is called *the uniform $q$-matroid*.\n",
    "\n",
    "\n",
    "<u> **Note:**</u><br>\n",
    "$\\quad\\mathcal{U}_{k,n}(\\mathbb{F}_q)$ is $\\mathbb{F}_{q^m}$-representable $\\Longleftrightarrow$ $m\\geq n$.\n",
    "\n",
    "</h4>"
   ]
  },
  {
   "cell_type": "code",
   "execution_count": 39,
   "metadata": {},
   "outputs": [
    {
     "data": {
      "text/plain": [
       "Q-Matroid of rank 1 in 3-dim. vector-space over the Finite field of characteristic 2"
      ]
     },
     "metadata": {},
     "output_type": "display_data"
    }
   ],
   "source": [
    "# Construct uniform q-matroid\n",
    "field = GF(2)\n",
    "k=1\n",
    "n=3\n",
    "UQM=Uniform_q_matroid(field,k,n)"
   ]
  },
  {
   "cell_type": "code",
   "execution_count": 40,
   "metadata": {},
   "outputs": [
    {
     "data": {
      "text/plain": [
       "7-element Vector{fpMatrix}:\n",
       " [1 0 0; 0 1 0]\n",
       " [1 0 0; 0 0 1]\n",
       " [1 0 0; 0 1 1]\n",
       " [0 1 0; 0 0 1]\n",
       " [1 0 1; 0 1 0]\n",
       " [1 1 0; 0 0 1]\n",
       " [1 0 1; 0 1 1]"
      ]
     },
     "metadata": {},
     "output_type": "display_data"
    }
   ],
   "source": [
    "# Circuits\n",
    "Q_Matroid_CircuitsV2(UQM)"
   ]
  },
  {
   "cell_type": "code",
   "execution_count": 41,
   "metadata": {},
   "outputs": [
    {
     "data": {
      "text/plain": [
       "2-element Vector{fpMatrix}:\n",
       " [0   0   0]\n",
       " [1 0 0; 0 1 0; 0 0 1]"
      ]
     },
     "metadata": {},
     "output_type": "display_data"
    }
   ],
   "source": [
    "# flats\n",
    "Q_Matroid_Flats(UQM)"
   ]
  },
  {
   "cell_type": "markdown",
   "metadata": {},
   "source": [
    "### **Representability Algorithm**"
   ]
  },
  {
   "cell_type": "markdown",
   "metadata": {},
   "source": [
    "<h4>\n",
    "<center>\n",
    "\n",
    "<u> **Question:**</u> Given a $q$-matroid can we decide wether it is representable?\n",
    "\n",
    "</center> \n",
    "\n",
    "</h4>"
   ]
  },
  {
   "cell_type": "markdown",
   "metadata": {},
   "source": [
    "<h4>\n",
    "<center>\n",
    "\n",
    "<u> **Answer:**</u> Yes, there is an algorithm to do so. (Kühne and D.)\n",
    "\n",
    "</center>\n",
    "<br>\n",
    "\n",
    "<u> **Algo:**</u>\n",
    "\n",
    "* *Setup:*   $\\mathcal{M}=(\\mathbb{F}_q^n,\\rho)$ of rank $k$.\n",
    "* *Input:*   $\\mathcal{B}$ of $\\mathcal{M}$\n",
    "* *Output:*  `True` or `False`\n",
    "* *Idea:*\n",
    "    - Check if ex. $\\tilde{G}\\in\\mathbb{F}_{q^m}^{k\\times n}$ for some $m\\geq 1$ s.t. $\\rho(V)=\\text{rk}(\\tilde{G}V^T)$.\n",
    "    - Must have:\n",
    "        + $\\det(\\tilde{G}B^T)\\not= 0$ for all $B\\in\\mathcal{B}$.\n",
    "        + $\\det(\\tilde{G}D^T)= 0$ for all $D\\in\\mathcal{NB}=$ $k$-dim. non-bases.\n",
    "    - Consider $S=\\bar{\\mathbb{F}_q}[x,z]=\\bar{\\mathbb{F}_q}[x_{i,j},z\\;|\\;1\\leq i\\leq k,1\\leq j\\leq n]$ and $G=(x_{i,j})\\in(\\bar{\\mathbb{F}_q}[x,z])^{k\\times n}$. \n",
    "        + For all $B\\in\\mathcal{B},D\\in\\mathcal{NB}$ define: $$P_B(x,z):=\\det(GB^T)\\;\\text{ and }\\; P_D(x,z):=\\det(GD^T).$$\n",
    "        + Define: $$R(x,z)=\\prod_{B\\in\\mathcal{B}}P_B(x,z)\\cdot z-1\\;\\text{ and }\\; I:=(R,P_D\\;|\\;D\\in\\mathcal{NB})$$\n",
    "    - Check if $\\mathcal{V}(I)$ is empty: $$\\mathcal{V}(I)=\\emptyset\\Longleftrightarrow 1\\in I\\quad\\text{by weak Hilbert N.S.-Satz}.$$\n",
    "\n",
    "</h4>"
   ]
  },
  {
   "cell_type": "markdown",
   "metadata": {},
   "source": [
    "#### **Algorithm: Julia/Oscar**"
   ]
  },
  {
   "cell_type": "code",
   "execution_count": 8,
   "metadata": {},
   "outputs": [
    {
     "data": {
      "text/plain": [
       "Q-Matroid of rank 2 in 4-dim. vector-space over the Finite field of characteristic 2"
      ]
     },
     "metadata": {},
     "output_type": "display_data"
    }
   ],
   "source": [
    "Ext_F2,x = FiniteField(2,3,\"x\")\n",
    "Mat2 = matrix(Ext_F2,[1 0 0 0;0 1 0 0])\n",
    "QM2 = q_matroid_from_matrix(Mat2)"
   ]
  },
  {
   "cell_type": "code",
   "execution_count": 9,
   "metadata": {},
   "outputs": [
    {
     "data": {
      "text/plain": [
       "(\"Q-Matroid is representable!!\", ideal(x9 + 1, x4, x3 + x4, x2 + x4, x1 + x2 + x3 + x4))"
      ]
     },
     "metadata": {},
     "output_type": "display_data"
    }
   ],
   "source": [
    "# Check for representability\n",
    "Is_representable(QM2)"
   ]
  },
  {
   "cell_type": "markdown",
   "metadata": {},
   "source": [
    "***"
   ]
  },
  {
   "cell_type": "code",
   "execution_count": 10,
   "metadata": {},
   "outputs": [
    {
     "data": {
      "text/plain": [
       "Q-Matroid of rank 2 in 4-dim. vector-space over the Finite field of characteristic 2"
      ]
     },
     "metadata": {},
     "output_type": "display_data"
    }
   ],
   "source": [
    "field = GF(2)\n",
    "dim = 4\n",
    "qrank = 2\n",
    "Groudspace = matrix_space(field,dim,dim)(1) \n",
    "All_two_spaces = subspaces_fix_dim(field,qrank,dim)\n",
    "Leftoutspaces = [matrix(field,[1 0 0 0;0 1 0 0]),matrix(field,[0 0 1 0;0 0 0 1]),matrix(field,[1 0 0 1;0 1 1 0]),matrix(field,[1 0 1 0;0 1 1 1])]\n",
    "Bases = [X for X in All_two_spaces if !(X in Leftoutspaces)]\n",
    "QM4=Q_Matroid(Groudspace,Bases)"
   ]
  },
  {
   "cell_type": "code",
   "execution_count": 11,
   "metadata": {},
   "outputs": [
    {
     "data": {
      "text/plain": [
       "(\"Q-Matroid is not representable!!\", ideal(1))"
      ]
     },
     "metadata": {},
     "output_type": "display_data"
    }
   ],
   "source": [
    "# Check for representability\n",
    "Is_representable(QM4)"
   ]
  }
 ],
 "metadata": {
  "kernelspec": {
   "display_name": "Julia 1.9.2",
   "language": "julia",
   "name": "julia-1.9"
  },
  "language_info": {
   "file_extension": ".jl",
   "mimetype": "application/julia",
   "name": "julia",
   "version": "1.9.2"
  }
 },
 "nbformat": 4,
 "nbformat_minor": 2
}
